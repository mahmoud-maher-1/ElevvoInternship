{
 "cells": [
  {
   "cell_type": "code",
   "id": "initial_id",
   "metadata": {
    "collapsed": true,
    "ExecuteTime": {
     "end_time": "2025-09-04T07:14:25.851830Z",
     "start_time": "2025-09-04T07:14:21.790952Z"
    }
   },
   "source": [
    "import pandas as pd\n",
    "import numpy as np\n"
   ],
   "outputs": [],
   "execution_count": 1
  },
  {
   "metadata": {
    "ExecuteTime": {
     "end_time": "2025-09-04T07:14:53.779924Z",
     "start_time": "2025-09-04T07:14:25.859865Z"
    }
   },
   "cell_type": "code",
   "source": [
    "resume_dataset = pd.read_csv('../Dataset/Raw/Resume Dataset/Resume/Resume.csv')\n",
    "job_description_dataset = pd.read_csv('../Dataset/Raw/Job Description Dataset/job_descriptions.csv')"
   ],
   "id": "1121b1e495d7b66b",
   "outputs": [],
   "execution_count": 2
  },
  {
   "metadata": {
    "ExecuteTime": {
     "end_time": "2025-09-04T07:14:55.102402Z",
     "start_time": "2025-09-04T07:14:55.090375Z"
    }
   },
   "cell_type": "code",
   "source": "resume_dataset.info()",
   "id": "20e11f3356839243",
   "outputs": [
    {
     "name": "stdout",
     "output_type": "stream",
     "text": [
      "<class 'pandas.core.frame.DataFrame'>\n",
      "RangeIndex: 2484 entries, 0 to 2483\n",
      "Data columns (total 4 columns):\n",
      " #   Column       Non-Null Count  Dtype \n",
      "---  ------       --------------  ----- \n",
      " 0   ID           2484 non-null   int64 \n",
      " 1   Resume_str   2484 non-null   object\n",
      " 2   Resume_html  2484 non-null   object\n",
      " 3   Category     2484 non-null   object\n",
      "dtypes: int64(1), object(3)\n",
      "memory usage: 77.8+ KB\n"
     ]
    }
   ],
   "execution_count": 3
  },
  {
   "metadata": {
    "ExecuteTime": {
     "end_time": "2025-09-04T07:14:55.137986Z",
     "start_time": "2025-09-04T07:14:55.122585Z"
    }
   },
   "cell_type": "code",
   "source": "resume_dataset.drop(columns=['ID', 'Resume_html'], inplace=True)",
   "id": "84d64c3f887ed747",
   "outputs": [],
   "execution_count": 4
  },
  {
   "metadata": {
    "ExecuteTime": {
     "end_time": "2025-09-04T07:14:55.174602Z",
     "start_time": "2025-09-04T07:14:55.158083Z"
    }
   },
   "cell_type": "code",
   "source": "resume_dataset.head()",
   "id": "a8585b862469ebf",
   "outputs": [
    {
     "data": {
      "text/plain": [
       "                                          Resume_str Category\n",
       "0           HR ADMINISTRATOR/MARKETING ASSOCIATE\\...       HR\n",
       "1           HR SPECIALIST, US HR OPERATIONS      ...       HR\n",
       "2           HR DIRECTOR       Summary      Over 2...       HR\n",
       "3           HR SPECIALIST       Summary    Dedica...       HR\n",
       "4           HR MANAGER         Skill Highlights  ...       HR"
      ],
      "text/html": [
       "<div>\n",
       "<style scoped>\n",
       "    .dataframe tbody tr th:only-of-type {\n",
       "        vertical-align: middle;\n",
       "    }\n",
       "\n",
       "    .dataframe tbody tr th {\n",
       "        vertical-align: top;\n",
       "    }\n",
       "\n",
       "    .dataframe thead th {\n",
       "        text-align: right;\n",
       "    }\n",
       "</style>\n",
       "<table border=\"1\" class=\"dataframe\">\n",
       "  <thead>\n",
       "    <tr style=\"text-align: right;\">\n",
       "      <th></th>\n",
       "      <th>Resume_str</th>\n",
       "      <th>Category</th>\n",
       "    </tr>\n",
       "  </thead>\n",
       "  <tbody>\n",
       "    <tr>\n",
       "      <th>0</th>\n",
       "      <td>HR ADMINISTRATOR/MARKETING ASSOCIATE\\...</td>\n",
       "      <td>HR</td>\n",
       "    </tr>\n",
       "    <tr>\n",
       "      <th>1</th>\n",
       "      <td>HR SPECIALIST, US HR OPERATIONS      ...</td>\n",
       "      <td>HR</td>\n",
       "    </tr>\n",
       "    <tr>\n",
       "      <th>2</th>\n",
       "      <td>HR DIRECTOR       Summary      Over 2...</td>\n",
       "      <td>HR</td>\n",
       "    </tr>\n",
       "    <tr>\n",
       "      <th>3</th>\n",
       "      <td>HR SPECIALIST       Summary    Dedica...</td>\n",
       "      <td>HR</td>\n",
       "    </tr>\n",
       "    <tr>\n",
       "      <th>4</th>\n",
       "      <td>HR MANAGER         Skill Highlights  ...</td>\n",
       "      <td>HR</td>\n",
       "    </tr>\n",
       "  </tbody>\n",
       "</table>\n",
       "</div>"
      ]
     },
     "execution_count": 5,
     "metadata": {},
     "output_type": "execute_result"
    }
   ],
   "execution_count": 5
  },
  {
   "metadata": {
    "ExecuteTime": {
     "end_time": "2025-09-04T07:14:55.264957Z",
     "start_time": "2025-09-04T07:14:55.254198Z"
    }
   },
   "cell_type": "code",
   "source": "resume_dataset['Category'].value_counts(normalize=True) * 100",
   "id": "81ade438dac4dda0",
   "outputs": [
    {
     "data": {
      "text/plain": [
       "INFORMATION-TECHNOLOGY    4.830918\n",
       "BUSINESS-DEVELOPMENT      4.830918\n",
       "FINANCE                   4.750403\n",
       "ADVOCATE                  4.750403\n",
       "ACCOUNTANT                4.750403\n",
       "ENGINEERING               4.750403\n",
       "CHEF                      4.750403\n",
       "AVIATION                  4.710145\n",
       "FITNESS                   4.710145\n",
       "SALES                     4.669887\n",
       "BANKING                   4.629630\n",
       "HEALTHCARE                4.629630\n",
       "CONSULTANT                4.629630\n",
       "CONSTRUCTION              4.508857\n",
       "PUBLIC-RELATIONS          4.468599\n",
       "HR                        4.428341\n",
       "DESIGNER                  4.307568\n",
       "ARTS                      4.146538\n",
       "TEACHER                   4.106280\n",
       "APPAREL                   3.904992\n",
       "DIGITAL-MEDIA             3.864734\n",
       "AGRICULTURE               2.536232\n",
       "AUTOMOBILE                1.449275\n",
       "BPO                       0.885668\n",
       "Name: Category, dtype: float64"
      ]
     },
     "execution_count": 6,
     "metadata": {},
     "output_type": "execute_result"
    }
   ],
   "execution_count": 6
  },
  {
   "metadata": {
    "ExecuteTime": {
     "end_time": "2025-09-04T07:14:55.388009Z",
     "start_time": "2025-09-04T07:14:55.361042Z"
    }
   },
   "cell_type": "code",
   "source": "job_description_dataset.head(2)",
   "id": "b60e79d6fd72901f",
   "outputs": [
    {
     "data": {
      "text/plain": [
       "             Job Id     Experience Qualifications Salary Range  location  \\\n",
       "0  1089843540111562  5 to 15 Years         M.Tech    $59K-$99K   Douglas   \n",
       "1   398454096642776  2 to 12 Years            BCA   $56K-$116K  Ashgabat   \n",
       "\n",
       "        Country  latitude  longitude Work Type  Company Size  ...  \\\n",
       "0   Isle of Man   54.2361    -4.5481    Intern         26801  ...   \n",
       "1  Turkmenistan   38.9697    59.5563    Intern        100340  ...   \n",
       "\n",
       "                Contact                     Job Title                    Role  \\\n",
       "0  001-381-930-7517x737  Digital Marketing Specialist    Social Media Manager   \n",
       "1          461-509-4216                 Web Developer  Frontend Web Developer   \n",
       "\n",
       "  Job Portal                                    Job Description  \\\n",
       "0   Snagajob  Social Media Managers oversee an organizations...   \n",
       "1   Idealist  Frontend Web Developers design and implement u...   \n",
       "\n",
       "                                            Benefits  \\\n",
       "0  {'Flexible Spending Accounts (FSAs), Relocatio...   \n",
       "1  {'Health Insurance, Retirement Plans, Paid Tim...   \n",
       "\n",
       "                                              skills  \\\n",
       "0  Social media platforms (e.g., Facebook, Twitte...   \n",
       "1  HTML, CSS, JavaScript Frontend frameworks (e.g...   \n",
       "\n",
       "                                    Responsibilities  \\\n",
       "0  Manage and grow social media accounts, create ...   \n",
       "1  Design and code user interfaces for websites, ...   \n",
       "\n",
       "                        Company  \\\n",
       "0             Icahn Enterprises   \n",
       "1  PNC Financial Services Group   \n",
       "\n",
       "                                     Company Profile  \n",
       "0  {\"Sector\":\"Diversified\",\"Industry\":\"Diversifie...  \n",
       "1  {\"Sector\":\"Financial Services\",\"Industry\":\"Com...  \n",
       "\n",
       "[2 rows x 23 columns]"
      ],
      "text/html": [
       "<div>\n",
       "<style scoped>\n",
       "    .dataframe tbody tr th:only-of-type {\n",
       "        vertical-align: middle;\n",
       "    }\n",
       "\n",
       "    .dataframe tbody tr th {\n",
       "        vertical-align: top;\n",
       "    }\n",
       "\n",
       "    .dataframe thead th {\n",
       "        text-align: right;\n",
       "    }\n",
       "</style>\n",
       "<table border=\"1\" class=\"dataframe\">\n",
       "  <thead>\n",
       "    <tr style=\"text-align: right;\">\n",
       "      <th></th>\n",
       "      <th>Job Id</th>\n",
       "      <th>Experience</th>\n",
       "      <th>Qualifications</th>\n",
       "      <th>Salary Range</th>\n",
       "      <th>location</th>\n",
       "      <th>Country</th>\n",
       "      <th>latitude</th>\n",
       "      <th>longitude</th>\n",
       "      <th>Work Type</th>\n",
       "      <th>Company Size</th>\n",
       "      <th>...</th>\n",
       "      <th>Contact</th>\n",
       "      <th>Job Title</th>\n",
       "      <th>Role</th>\n",
       "      <th>Job Portal</th>\n",
       "      <th>Job Description</th>\n",
       "      <th>Benefits</th>\n",
       "      <th>skills</th>\n",
       "      <th>Responsibilities</th>\n",
       "      <th>Company</th>\n",
       "      <th>Company Profile</th>\n",
       "    </tr>\n",
       "  </thead>\n",
       "  <tbody>\n",
       "    <tr>\n",
       "      <th>0</th>\n",
       "      <td>1089843540111562</td>\n",
       "      <td>5 to 15 Years</td>\n",
       "      <td>M.Tech</td>\n",
       "      <td>$59K-$99K</td>\n",
       "      <td>Douglas</td>\n",
       "      <td>Isle of Man</td>\n",
       "      <td>54.2361</td>\n",
       "      <td>-4.5481</td>\n",
       "      <td>Intern</td>\n",
       "      <td>26801</td>\n",
       "      <td>...</td>\n",
       "      <td>001-381-930-7517x737</td>\n",
       "      <td>Digital Marketing Specialist</td>\n",
       "      <td>Social Media Manager</td>\n",
       "      <td>Snagajob</td>\n",
       "      <td>Social Media Managers oversee an organizations...</td>\n",
       "      <td>{'Flexible Spending Accounts (FSAs), Relocatio...</td>\n",
       "      <td>Social media platforms (e.g., Facebook, Twitte...</td>\n",
       "      <td>Manage and grow social media accounts, create ...</td>\n",
       "      <td>Icahn Enterprises</td>\n",
       "      <td>{\"Sector\":\"Diversified\",\"Industry\":\"Diversifie...</td>\n",
       "    </tr>\n",
       "    <tr>\n",
       "      <th>1</th>\n",
       "      <td>398454096642776</td>\n",
       "      <td>2 to 12 Years</td>\n",
       "      <td>BCA</td>\n",
       "      <td>$56K-$116K</td>\n",
       "      <td>Ashgabat</td>\n",
       "      <td>Turkmenistan</td>\n",
       "      <td>38.9697</td>\n",
       "      <td>59.5563</td>\n",
       "      <td>Intern</td>\n",
       "      <td>100340</td>\n",
       "      <td>...</td>\n",
       "      <td>461-509-4216</td>\n",
       "      <td>Web Developer</td>\n",
       "      <td>Frontend Web Developer</td>\n",
       "      <td>Idealist</td>\n",
       "      <td>Frontend Web Developers design and implement u...</td>\n",
       "      <td>{'Health Insurance, Retirement Plans, Paid Tim...</td>\n",
       "      <td>HTML, CSS, JavaScript Frontend frameworks (e.g...</td>\n",
       "      <td>Design and code user interfaces for websites, ...</td>\n",
       "      <td>PNC Financial Services Group</td>\n",
       "      <td>{\"Sector\":\"Financial Services\",\"Industry\":\"Com...</td>\n",
       "    </tr>\n",
       "  </tbody>\n",
       "</table>\n",
       "<p>2 rows × 23 columns</p>\n",
       "</div>"
      ]
     },
     "execution_count": 7,
     "metadata": {},
     "output_type": "execute_result"
    }
   ],
   "execution_count": 7
  },
  {
   "metadata": {
    "ExecuteTime": {
     "end_time": "2025-09-04T07:14:55.712676Z",
     "start_time": "2025-09-04T07:14:55.530360Z"
    }
   },
   "cell_type": "code",
   "source": "job_description_dataset['Role'].value_counts()",
   "id": "2c7e305c4ea466f4",
   "outputs": [
    {
     "data": {
      "text/plain": [
       "Interaction Designer            20580\n",
       "Network Administrator           17470\n",
       "User Interface Designer         14036\n",
       "Social Media Manager            13945\n",
       "User Experience Designer        13935\n",
       "                                ...  \n",
       "Inventory Control Specialist     3342\n",
       "Budget Analyst                   3335\n",
       "Clinical Nurse Manager           3324\n",
       "Social Science Researcher        3321\n",
       "Paid Advertising Specialist      3306\n",
       "Name: Role, Length: 376, dtype: int64"
      ]
     },
     "execution_count": 8,
     "metadata": {},
     "output_type": "execute_result"
    }
   ],
   "execution_count": 8
  },
  {
   "metadata": {
    "ExecuteTime": {
     "end_time": "2025-09-04T07:14:56.126076Z",
     "start_time": "2025-09-04T07:14:55.945220Z"
    }
   },
   "cell_type": "code",
   "source": "job_description_dataset['Role'].unique()",
   "id": "718da44862c439da",
   "outputs": [
    {
     "data": {
      "text/plain": [
       "array(['Social Media Manager', 'Frontend Web Developer',\n",
       "       'Quality Control Manager', 'Wireless Network Engineer',\n",
       "       'Conference Manager', 'Quality Assurance Analyst',\n",
       "       'Classroom Teacher', 'User Interface Designer',\n",
       "       'Interaction Designer', 'Wedding Consultant',\n",
       "       'Performance Testing Specialist', 'Family Law Attorney',\n",
       "       'Mechanical Design Engineer', 'Network Security Analyst',\n",
       "       'Sales Account Manager', 'Product Brand Manager',\n",
       "       'School Social Worker', 'Content Creator',\n",
       "       'Deliverability Analyst', 'HR Coordinator', 'Legal Secretary',\n",
       "       'Family Nurse Practitioner', 'Account Strategist',\n",
       "       'Backend Developer', 'Supply Chain Coordinator',\n",
       "       'B2B Sales Consultant', 'Structural Engineer',\n",
       "       'Security Operations Center (SOC) Analyst', 'Front-End Developer',\n",
       "       'Tax Planner', 'Event Coordinator', 'Clinical Psychologist',\n",
       "       'Electrical Engineer', 'Lighting Designer',\n",
       "       'Business Intelligence Analyst', 'Content Writer',\n",
       "       'Personal Tax Consultant', 'Automation Tester',\n",
       "       'Sales Account Executive', 'IT Support Specialist',\n",
       "       'Database Developer', 'Social Science Researcher', 'Record Keeper',\n",
       "       'Staff Nurse', 'International Tax Consultant', 'Risk Analyst',\n",
       "       'Speech Pathologist', 'Regional Sales Director',\n",
       "       'Mental Health Counselor', 'Urban Planner',\n",
       "       'Strategic Account Manager', 'User Researcher',\n",
       "       'Financial Analyst', 'Desktop Support Technician', 'Art Curator',\n",
       "       'Mobile App Developer', 'Agile Project Manager',\n",
       "       'Service Quality Assurance Manager', 'Procurement Analyst',\n",
       "       'Family Counselor', 'Logistics Analyst', 'Data Architect',\n",
       "       'Documentation Specialist', 'Financial Accountant',\n",
       "       'Inside Sales Representative', 'Inventory Manager',\n",
       "       'Automation Test Engineer', 'Sustainability Consultant',\n",
       "       'Electronics Hardware Engineer', 'Systems Integration Specialist',\n",
       "       'Brand Strategist', 'Acute Care Nurse Practitioner',\n",
       "       'Trial Attorney', 'Network Security Engineer',\n",
       "       'Research Psychologist', 'Art Education Coordinator',\n",
       "       'Talent Acquisition Manager', 'Inventory Control Specialist',\n",
       "       'Corporate Attorney', 'SQL Database Developer',\n",
       "       'Procurement Manager', 'IT Analyst', 'Key Account Executive',\n",
       "       'Creative Copywriter', 'SEO Specialist', 'Account Executive',\n",
       "       'Construction Project Manager', 'Instructional Designer',\n",
       "       'Content Strategist', 'Training Coordinator',\n",
       "       'Recruitment Coordinator', 'Strategic Partnerships Manager',\n",
       "       'Java Backend Developer', 'Sales Team Leader',\n",
       "       'Pediatric Speech Therapist', 'Big Data Engineer',\n",
       "       'NoSQL Database Engineer', 'Demand Planner', 'Wedding Designer',\n",
       "       'Event Planner', 'Portfolio Manager',\n",
       "       'Geriatric Nurse Practitioner', 'JavaScript Developer',\n",
       "       'Account Manager', 'Purchasing Coordinator',\n",
       "       'Transportation Planner', 'Adult Speech Therapist',\n",
       "       'Benefits Coordinator', 'Interior Designer', 'Investment Analyst',\n",
       "       'Email Campaign Manager', 'Sustainability Specialist',\n",
       "       'Server Developer', 'Systems Administrator', 'Design Engineer',\n",
       "       'Market Research Coordinator', 'Call Center Agent',\n",
       "       'Customer Success Manager', 'Environmental Designer',\n",
       "       'IT Business Analyst', 'Social Media Analyst',\n",
       "       'Child Custody Lawyer', 'Data Scientist',\n",
       "       'Clinical Nurse Specialist', 'Quality Control Analyst',\n",
       "       'Power Systems Engineer', 'Network Security Specialist',\n",
       "       'Commercial Interior Designer', 'Addiction Counselor',\n",
       "       'Cloud Architect', 'Data Business Analyst', 'Nursing Director',\n",
       "       'Small Animal Veterinarian', 'Chemical Engineer',\n",
       "       'Market Research Analyst', 'Infrastructure Manager', 'QA Tester',\n",
       "       'IT Project Manager', 'Client Relationship Manager',\n",
       "       'Backend Web Developer', 'Medical Sales Specialist',\n",
       "       'Office Coordinator', 'Paralegal', 'Project Architect',\n",
       "       'Performance Tester', 'Territory Sales Manager',\n",
       "       'Help Desk Support Specialist', 'Special Education Teacher',\n",
       "       'Test Automation Engineer', 'Surgical Physician Assistant',\n",
       "       'Administrative Assistant', 'Data Quality Analyst',\n",
       "       'Tax Accountant', 'Equine Veterinarian',\n",
       "       'Investment Portfolio Manager', 'Brand Director',\n",
       "       'Operations Director', 'Key Account Manager',\n",
       "       'Accessibility Developer', 'Senior Researcher',\n",
       "       'Java Software Engineer', 'Residential Interior Designer',\n",
       "       'Office Manager', 'Human Resources Director', 'Personal Assistant',\n",
       "       'Sales Representative', 'Corporate Litigator',\n",
       "       'Exotic Animal Veterinarian', 'Brand Manager', 'Sourcing Analyst',\n",
       "       'Employee Relations Specialist', 'Fine Arts Instructor',\n",
       "       'Brand PR Specialist', 'Finance Manager', 'Network Administrator',\n",
       "       'Environmental Impact Analyst', 'Wealth Advisor',\n",
       "       'Financial Planner', 'Systems Engineer', 'Procurement Coordinator',\n",
       "       'Market Researcher', 'Supply Chain Manager', 'Data Analyst',\n",
       "       'Strategic Sourcing Manager', 'Real Estate Paralegal',\n",
       "       'Commercial Landscape Architect', 'City Planner',\n",
       "       'Frontend Web Designer', 'Pediatric Occupational Therapist',\n",
       "       'Visual Designer', 'Sustainable Design Specialist',\n",
       "       'Crisis Communication Manager', 'HR Compliance Specialist',\n",
       "       'Child Welfare Worker', 'Advertising Account Executive',\n",
       "       'In-House Counsel', 'Water Resources Engineer',\n",
       "       'Marketing Specialist', 'Dental Hygiene Educator',\n",
       "       'Administrative Manager', 'SEM Analyst',\n",
       "       'Technical SEO Specialist', 'Corporate Event Coordinator',\n",
       "       'UI/UX Front-End Developer', 'Pediatric Surgeon',\n",
       "       'Project Coordinator', 'QA Manager',\n",
       "       'Mergers and Acquisitions Advisor', 'Industrial Engineer',\n",
       "       'SEO Copywriter', 'Product Marketing Manager',\n",
       "       'Machine Learning Engineer', 'Digital Marketing Coordinator',\n",
       "       'Architectural Designer', 'Frontend Developer', 'Database Analyst',\n",
       "       'Content SEO Strategist', 'Live Chat Support Agent',\n",
       "       'Intellectual Property Lawyer', 'Wealth Management Advisor',\n",
       "       'Studio Art Teacher', 'ETL Developer', 'Personal Secretary',\n",
       "       'Technical Support Specialist', 'Corporate Paralegal',\n",
       "       'Technical SEO Analyst', 'Primary Care Nurse Practitioner',\n",
       "       'Accounting Controller', 'Logistics Manager',\n",
       "       'Primary Care Provider', 'Social Media Strategist',\n",
       "       'UX/UI Designer', 'Customer Support Manager',\n",
       "       'Geriatric Occupational Therapist', 'User Experience Designer',\n",
       "       'Network Performance Analyst', 'Database Administrator',\n",
       "       'CAD Technician', 'UI/UX Developer', 'Corporate Counsel',\n",
       "       'Brand Marketing Analyst', 'Manufacturing Engineer',\n",
       "       'Procurement Specialist', 'Security Consultant', 'IT Director',\n",
       "       'Marketing Analytics Specialist', 'Research Analyst',\n",
       "       'DevOps Engineer', 'Legal Counsel', 'Database Security Specialist',\n",
       "       'Print Graphic Designer', 'Digital Marketing Manager',\n",
       "       'Litigation Support Specialist', 'Content Marketing Manager',\n",
       "       'Mediator', 'Accounting Manager', 'Sales Manager',\n",
       "       'Help Desk Analyst', 'Wedding Planner', 'Controls Engineer',\n",
       "       'General Pediatrician', 'Facilities Manager',\n",
       "       'Pediatric Physical Therapist', 'Investment Advisor',\n",
       "       'Digital Marketing Specialist', 'Cloud Systems Engineer',\n",
       "       'Industrial Designer', 'Network Engineer',\n",
       "       'Marketing Automation Specialist', 'IT Systems Administrator',\n",
       "       'Executive Assistant', 'Quality Assurance Manager',\n",
       "       'Analytical Chemist', 'Environmental Compliance Officer',\n",
       "       'Email Marketing Specialist', 'Social Media Influencer',\n",
       "       'Employment Lawyer', 'Construction Project Coordinator',\n",
       "       'Supplier Diversity Manager', 'Transportation Engineer',\n",
       "       'Environmental Consultant', 'Agile Product Owner',\n",
       "       'Architectural Drafter', 'Clinical Nurse Manager', 'Web Designer',\n",
       "       'Customer Experience Strategist', 'Full-Stack Developer',\n",
       "       'Network Support Specialist', 'Avionics Engineer',\n",
       "       'System Administrator', 'Hospitality Interior Designer',\n",
       "       'Project Manager', 'Onboarding Specialist', 'SEO Analyst',\n",
       "       'Budget Analyst', 'Business Systems Analyst',\n",
       "       'Pediatric Specialist', 'Marketing Communications Director',\n",
       "       'Recovery Coach', 'Mental Health Occupational Therapist',\n",
       "       'Retail Sales Associate', 'HVAC Engineer', 'PCB Designer',\n",
       "       'Creative Director', 'Nurse Educator', 'Data Engineer',\n",
       "       'Search Engine Marketer', 'Healthcare Business Analyst',\n",
       "       'UI/UX Designer', 'Retirement Planner', 'School Psychologist',\n",
       "       'Data Entry Specialist', 'Software QA Tester', 'Charge Nurse',\n",
       "       'API Developer', 'UX Strategist', 'Quality Control Engineer',\n",
       "       'Technical Product Manager', 'Construction Engineer',\n",
       "       'Orthopedic Physical Therapist', 'Business Development Director',\n",
       "       'Usability Analyst', 'Forensic Accountant',\n",
       "       'Customer Support Specialist', 'Enterprise Architect',\n",
       "       'Event Marketing Coordinator', 'Corporate Event Planner',\n",
       "       'Media Relations Specialist', 'Dental Public Health Hygienist',\n",
       "       'Copywriter', 'Aircraft Design Engineer',\n",
       "       'Paid Advertising Specialist', 'Environmental Planner',\n",
       "       'Community Manager', 'Process Engineer', 'Data Analyst Researcher',\n",
       "       'Residential Landscape Designer', 'Periodontal Therapist',\n",
       "       'Sustainable Landscape Specialist', 'Digital Marketing Director',\n",
       "       'Pediatric Nurse Practitioner', 'Sales Advisor',\n",
       "       'Geriatric Physical Therapist', 'Technical Writer',\n",
       "       'HVAC Systems Designer', 'Research Chemist', 'Legal Assistant',\n",
       "       'Administrative Coordinator', 'HR Generalist',\n",
       "       'Cybersecurity Analyst', 'Financial Planning Manager',\n",
       "       'Java Web Application Developer', 'Product Demonstrator',\n",
       "       'Bridge Engineer', 'Outside Sales Representative',\n",
       "       'Wedding Coordinator', 'Emergency Medicine Physician Assistant',\n",
       "       'E-commerce Web Designer', 'Technical Copywriter',\n",
       "       'Market Expansion Manager', 'Solution Architect',\n",
       "       'Research and Development (R&D) Engineer',\n",
       "       'Competitive Intelligence Analyst', 'Litigation Paralegal',\n",
       "       'Primary Care Physician Assistant', 'Web Graphic Designer',\n",
       "       'Product Designer', 'Digital Marketing Analyst', 'Court Clerk',\n",
       "       'Subject Matter Expert', 'Brand Promoter',\n",
       "       'SEO Content Strategist', 'Sales Trainer', 'Treasury Manager',\n",
       "       'Business Tax Consultant', 'Employee Development Manager'],\n",
       "      dtype=object)"
      ]
     },
     "execution_count": 9,
     "metadata": {},
     "output_type": "execute_result"
    }
   ],
   "execution_count": 9
  },
  {
   "metadata": {
    "ExecuteTime": {
     "end_time": "2025-09-04T07:14:56.333161Z",
     "start_time": "2025-09-04T07:14:56.181493Z"
    }
   },
   "cell_type": "code",
   "source": "job_description_dataset['Job Title'].unique()",
   "id": "89f1a99b5fa568cb",
   "outputs": [
    {
     "data": {
      "text/plain": [
       "array(['Digital Marketing Specialist', 'Web Developer',\n",
       "       'Operations Manager', 'Network Engineer', 'Event Manager',\n",
       "       'Software Tester', 'Teacher', 'UX/UI Designer', 'Wedding Planner',\n",
       "       'QA Analyst', 'Litigation Attorney', 'Mechanical Engineer',\n",
       "       'Network Administrator', 'Account Manager', 'Brand Manager',\n",
       "       'Social Worker', 'Social Media Coordinator',\n",
       "       'Email Marketing Specialist', 'HR Generalist', 'Legal Assistant',\n",
       "       'Nurse Practitioner', 'Account Director', 'Software Engineer',\n",
       "       'Purchasing Agent', 'Sales Consultant', 'Civil Engineer',\n",
       "       'Network Security Specialist', 'UI Developer', 'Financial Planner',\n",
       "       'Event Planner', 'Psychologist', 'Electrical Designer',\n",
       "       'Data Analyst', 'Technical Writer', 'Tax Consultant',\n",
       "       'Account Executive', 'Systems Administrator',\n",
       "       'Database Administrator', 'Research Analyst', 'Data Entry Clerk',\n",
       "       'Registered Nurse', 'Investment Analyst', 'Speech Therapist',\n",
       "       'Sales Manager', 'Landscape Architect', 'Key Account Manager',\n",
       "       'UX Researcher', 'Investment Banker', 'IT Support Specialist',\n",
       "       'Art Director', 'Software Developer', 'Project Manager',\n",
       "       'Customer Service Manager', 'Procurement Manager',\n",
       "       'Substance Abuse Counselor', 'Supply Chain Analyst',\n",
       "       'Data Engineer', 'Accountant', 'Sales Representative',\n",
       "       'Environmental Consultant', 'Electrical Engineer',\n",
       "       'Systems Engineer', 'Art Teacher', 'Human Resources Manager',\n",
       "       'Inventory Analyst', 'Legal Counsel', 'Database Developer',\n",
       "       'Procurement Specialist', 'Systems Analyst', 'Copywriter',\n",
       "       'Content Writer', 'HR Coordinator', 'Business Development Manager',\n",
       "       'Java Developer', 'Supply Chain Manager', 'Event Coordinator',\n",
       "       'Family Nurse Practitioner', 'Front-End Engineer',\n",
       "       'Customer Success Manager', 'Procurement Coordinator',\n",
       "       'Urban Planner', 'Architectural Designer', 'Financial Analyst',\n",
       "       'Environmental Engineer', 'Back-End Developer',\n",
       "       'Structural Engineer', 'Market Research Analyst',\n",
       "       'Customer Service Representative', 'Customer Support Specialist',\n",
       "       'Business Analyst', 'Social Media Manager', 'Family Lawyer',\n",
       "       'Chemical Analyst', 'Network Technician', 'Interior Designer',\n",
       "       'Software Architect', 'Nurse Manager', 'Veterinarian',\n",
       "       'Process Engineer', 'IT Manager', 'Quality Assurance Analyst',\n",
       "       'Pharmaceutical Sales Representative', 'Office Manager',\n",
       "       'Architect', 'Physician Assistant', 'Marketing Director',\n",
       "       'Front-End Developer', 'Research Scientist', 'Executive Assistant',\n",
       "       'HR Manager', 'Marketing Manager', 'Public Relations Specialist',\n",
       "       'Financial Controller', 'Investment Advisor', 'Aerospace Engineer',\n",
       "       'Marketing Analyst', 'Paralegal', 'Landscape Designer',\n",
       "       'Web Designer', 'Occupational Therapist', 'Legal Advisor',\n",
       "       'Marketing Coordinator', 'Dental Hygienist', 'SEM Specialist',\n",
       "       'SEO Specialist', 'Pediatrician', 'QA Engineer', 'Data Scientist',\n",
       "       'Financial Advisor', 'Personal Assistant', 'SEO Analyst',\n",
       "       'Network Analyst', 'Mechanical Designer', 'Marketing Specialist',\n",
       "       'Graphic Designer', 'Finance Manager', 'Physical Therapist',\n",
       "       'Product Designer', 'Administrative Assistant', 'Brand Ambassador',\n",
       "       'Project Coordinator', 'Product Manager', 'IT Administrator',\n",
       "       'Sales Associate', 'Chemical Engineer', 'Legal Secretary',\n",
       "       'Market Analyst'], dtype=object)"
      ]
     },
     "execution_count": 10,
     "metadata": {},
     "output_type": "execute_result"
    }
   ],
   "execution_count": 10
  },
  {
   "metadata": {
    "ExecuteTime": {
     "end_time": "2025-09-04T07:14:56.626120Z",
     "start_time": "2025-09-04T07:14:56.383705Z"
    }
   },
   "cell_type": "code",
   "source": "job_description_dataset.drop(columns=['Company Profile', 'Job Portal','Preference', 'Job Posting Date', 'Company Size', 'longitude', 'latitude'], inplace=True)",
   "id": "7a06137ead6e92b9",
   "outputs": [],
   "execution_count": 11
  },
  {
   "metadata": {
    "ExecuteTime": {
     "end_time": "2025-09-04T07:14:56.646847Z",
     "start_time": "2025-09-04T07:14:56.638545Z"
    }
   },
   "cell_type": "code",
   "source": [
    "# Subset I'm working on....\n",
    "row = job_description_dataset.iloc[:20, :]"
   ],
   "id": "8ffac6ceaf06126c",
   "outputs": [],
   "execution_count": 12
  },
  {
   "metadata": {
    "ExecuteTime": {
     "end_time": "2025-09-04T07:14:56.731486Z",
     "start_time": "2025-09-04T07:14:56.691487Z"
    }
   },
   "cell_type": "code",
   "source": "row.head()",
   "id": "e2053ada46f189e2",
   "outputs": [
    {
     "data": {
      "text/plain": [
       "             Job Id     Experience Qualifications Salary Range    location  \\\n",
       "0  1089843540111562  5 to 15 Years         M.Tech    $59K-$99K     Douglas   \n",
       "1   398454096642776  2 to 12 Years            BCA   $56K-$116K    Ashgabat   \n",
       "2   481640072963533  0 to 12 Years            PhD   $61K-$104K       Macao   \n",
       "3   688192671473044  4 to 11 Years            PhD    $65K-$91K  Porto-Novo   \n",
       "4   117057806156508  1 to 12 Years            MBA    $64K-$87K    Santiago   \n",
       "\n",
       "            Country  Work Type      Contact Person                Contact  \\\n",
       "0       Isle of Man     Intern  Brandon Cunningham   001-381-930-7517x737   \n",
       "1      Turkmenistan     Intern    Francisco Larsen           461-509-4216   \n",
       "2  Macao SAR, China  Temporary         Gary Gibson             9687619505   \n",
       "3             Benin  Full-Time          Joy Lucero  +1-820-643-5431x47576   \n",
       "4             Chile     Intern       Julie Johnson      343.975.4702x9340   \n",
       "\n",
       "                      Job Title                       Role  \\\n",
       "0  Digital Marketing Specialist       Social Media Manager   \n",
       "1                 Web Developer     Frontend Web Developer   \n",
       "2            Operations Manager    Quality Control Manager   \n",
       "3              Network Engineer  Wireless Network Engineer   \n",
       "4                 Event Manager         Conference Manager   \n",
       "\n",
       "                                     Job Description  \\\n",
       "0  Social Media Managers oversee an organizations...   \n",
       "1  Frontend Web Developers design and implement u...   \n",
       "2  Quality Control Managers establish and enforce...   \n",
       "3  Wireless Network Engineers design, implement, ...   \n",
       "4  A Conference Manager coordinates and manages c...   \n",
       "\n",
       "                                            Benefits  \\\n",
       "0  {'Flexible Spending Accounts (FSAs), Relocatio...   \n",
       "1  {'Health Insurance, Retirement Plans, Paid Tim...   \n",
       "2  {'Legal Assistance, Bonuses and Incentive Prog...   \n",
       "3  {'Transportation Benefits, Professional Develo...   \n",
       "4  {'Flexible Spending Accounts (FSAs), Relocatio...   \n",
       "\n",
       "                                              skills  \\\n",
       "0  Social media platforms (e.g., Facebook, Twitte...   \n",
       "1  HTML, CSS, JavaScript Frontend frameworks (e.g...   \n",
       "2  Quality control processes and methodologies St...   \n",
       "3  Wireless network design and architecture Wi-Fi...   \n",
       "4  Event planning Conference logistics Budget man...   \n",
       "\n",
       "                                    Responsibilities  \\\n",
       "0  Manage and grow social media accounts, create ...   \n",
       "1  Design and code user interfaces for websites, ...   \n",
       "2  Establish and enforce quality control standard...   \n",
       "3  Design, configure, and optimize wireless netwo...   \n",
       "4  Specialize in conference and convention planni...   \n",
       "\n",
       "                            Company  \n",
       "0                 Icahn Enterprises  \n",
       "1      PNC Financial Services Group  \n",
       "2  United Services Automobile Assn.  \n",
       "3                              Hess  \n",
       "4                      Cairn Energy  "
      ],
      "text/html": [
       "<div>\n",
       "<style scoped>\n",
       "    .dataframe tbody tr th:only-of-type {\n",
       "        vertical-align: middle;\n",
       "    }\n",
       "\n",
       "    .dataframe tbody tr th {\n",
       "        vertical-align: top;\n",
       "    }\n",
       "\n",
       "    .dataframe thead th {\n",
       "        text-align: right;\n",
       "    }\n",
       "</style>\n",
       "<table border=\"1\" class=\"dataframe\">\n",
       "  <thead>\n",
       "    <tr style=\"text-align: right;\">\n",
       "      <th></th>\n",
       "      <th>Job Id</th>\n",
       "      <th>Experience</th>\n",
       "      <th>Qualifications</th>\n",
       "      <th>Salary Range</th>\n",
       "      <th>location</th>\n",
       "      <th>Country</th>\n",
       "      <th>Work Type</th>\n",
       "      <th>Contact Person</th>\n",
       "      <th>Contact</th>\n",
       "      <th>Job Title</th>\n",
       "      <th>Role</th>\n",
       "      <th>Job Description</th>\n",
       "      <th>Benefits</th>\n",
       "      <th>skills</th>\n",
       "      <th>Responsibilities</th>\n",
       "      <th>Company</th>\n",
       "    </tr>\n",
       "  </thead>\n",
       "  <tbody>\n",
       "    <tr>\n",
       "      <th>0</th>\n",
       "      <td>1089843540111562</td>\n",
       "      <td>5 to 15 Years</td>\n",
       "      <td>M.Tech</td>\n",
       "      <td>$59K-$99K</td>\n",
       "      <td>Douglas</td>\n",
       "      <td>Isle of Man</td>\n",
       "      <td>Intern</td>\n",
       "      <td>Brandon Cunningham</td>\n",
       "      <td>001-381-930-7517x737</td>\n",
       "      <td>Digital Marketing Specialist</td>\n",
       "      <td>Social Media Manager</td>\n",
       "      <td>Social Media Managers oversee an organizations...</td>\n",
       "      <td>{'Flexible Spending Accounts (FSAs), Relocatio...</td>\n",
       "      <td>Social media platforms (e.g., Facebook, Twitte...</td>\n",
       "      <td>Manage and grow social media accounts, create ...</td>\n",
       "      <td>Icahn Enterprises</td>\n",
       "    </tr>\n",
       "    <tr>\n",
       "      <th>1</th>\n",
       "      <td>398454096642776</td>\n",
       "      <td>2 to 12 Years</td>\n",
       "      <td>BCA</td>\n",
       "      <td>$56K-$116K</td>\n",
       "      <td>Ashgabat</td>\n",
       "      <td>Turkmenistan</td>\n",
       "      <td>Intern</td>\n",
       "      <td>Francisco Larsen</td>\n",
       "      <td>461-509-4216</td>\n",
       "      <td>Web Developer</td>\n",
       "      <td>Frontend Web Developer</td>\n",
       "      <td>Frontend Web Developers design and implement u...</td>\n",
       "      <td>{'Health Insurance, Retirement Plans, Paid Tim...</td>\n",
       "      <td>HTML, CSS, JavaScript Frontend frameworks (e.g...</td>\n",
       "      <td>Design and code user interfaces for websites, ...</td>\n",
       "      <td>PNC Financial Services Group</td>\n",
       "    </tr>\n",
       "    <tr>\n",
       "      <th>2</th>\n",
       "      <td>481640072963533</td>\n",
       "      <td>0 to 12 Years</td>\n",
       "      <td>PhD</td>\n",
       "      <td>$61K-$104K</td>\n",
       "      <td>Macao</td>\n",
       "      <td>Macao SAR, China</td>\n",
       "      <td>Temporary</td>\n",
       "      <td>Gary Gibson</td>\n",
       "      <td>9687619505</td>\n",
       "      <td>Operations Manager</td>\n",
       "      <td>Quality Control Manager</td>\n",
       "      <td>Quality Control Managers establish and enforce...</td>\n",
       "      <td>{'Legal Assistance, Bonuses and Incentive Prog...</td>\n",
       "      <td>Quality control processes and methodologies St...</td>\n",
       "      <td>Establish and enforce quality control standard...</td>\n",
       "      <td>United Services Automobile Assn.</td>\n",
       "    </tr>\n",
       "    <tr>\n",
       "      <th>3</th>\n",
       "      <td>688192671473044</td>\n",
       "      <td>4 to 11 Years</td>\n",
       "      <td>PhD</td>\n",
       "      <td>$65K-$91K</td>\n",
       "      <td>Porto-Novo</td>\n",
       "      <td>Benin</td>\n",
       "      <td>Full-Time</td>\n",
       "      <td>Joy Lucero</td>\n",
       "      <td>+1-820-643-5431x47576</td>\n",
       "      <td>Network Engineer</td>\n",
       "      <td>Wireless Network Engineer</td>\n",
       "      <td>Wireless Network Engineers design, implement, ...</td>\n",
       "      <td>{'Transportation Benefits, Professional Develo...</td>\n",
       "      <td>Wireless network design and architecture Wi-Fi...</td>\n",
       "      <td>Design, configure, and optimize wireless netwo...</td>\n",
       "      <td>Hess</td>\n",
       "    </tr>\n",
       "    <tr>\n",
       "      <th>4</th>\n",
       "      <td>117057806156508</td>\n",
       "      <td>1 to 12 Years</td>\n",
       "      <td>MBA</td>\n",
       "      <td>$64K-$87K</td>\n",
       "      <td>Santiago</td>\n",
       "      <td>Chile</td>\n",
       "      <td>Intern</td>\n",
       "      <td>Julie Johnson</td>\n",
       "      <td>343.975.4702x9340</td>\n",
       "      <td>Event Manager</td>\n",
       "      <td>Conference Manager</td>\n",
       "      <td>A Conference Manager coordinates and manages c...</td>\n",
       "      <td>{'Flexible Spending Accounts (FSAs), Relocatio...</td>\n",
       "      <td>Event planning Conference logistics Budget man...</td>\n",
       "      <td>Specialize in conference and convention planni...</td>\n",
       "      <td>Cairn Energy</td>\n",
       "    </tr>\n",
       "  </tbody>\n",
       "</table>\n",
       "</div>"
      ]
     },
     "execution_count": 13,
     "metadata": {},
     "output_type": "execute_result"
    }
   ],
   "execution_count": 13
  },
  {
   "metadata": {
    "ExecuteTime": {
     "end_time": "2025-09-04T07:14:56.887040Z",
     "start_time": "2025-09-04T07:14:56.872613Z"
    }
   },
   "cell_type": "code",
   "source": "print(row['Country'][0])",
   "id": "89c06eade93659ce",
   "outputs": [
    {
     "name": "stdout",
     "output_type": "stream",
     "text": [
      "Isle of Man\n"
     ]
    }
   ],
   "execution_count": 14
  },
  {
   "metadata": {
    "ExecuteTime": {
     "end_time": "2025-09-04T07:14:57.088356Z",
     "start_time": "2025-09-04T07:14:57.077138Z"
    }
   },
   "cell_type": "code",
   "source": "print(row['Job Title'][0])",
   "id": "d7ed17b8a0171ef8",
   "outputs": [
    {
     "name": "stdout",
     "output_type": "stream",
     "text": [
      "Digital Marketing Specialist\n"
     ]
    }
   ],
   "execution_count": 15
  },
  {
   "metadata": {
    "ExecuteTime": {
     "end_time": "2025-09-04T07:14:57.144580Z",
     "start_time": "2025-09-04T07:14:57.134350Z"
    }
   },
   "cell_type": "code",
   "source": "print(row['Benefits'][0])",
   "id": "823856105ecee66a",
   "outputs": [
    {
     "name": "stdout",
     "output_type": "stream",
     "text": [
      "{'Flexible Spending Accounts (FSAs), Relocation Assistance, Legal Assistance, Employee Recognition Programs, Financial Counseling'}\n"
     ]
    }
   ],
   "execution_count": 16
  },
  {
   "metadata": {
    "ExecuteTime": {
     "end_time": "2025-09-04T07:14:57.212068Z",
     "start_time": "2025-09-04T07:14:57.200230Z"
    }
   },
   "cell_type": "code",
   "source": "print(row['Job Description'][0])",
   "id": "43218e7a7c62b5db",
   "outputs": [
    {
     "name": "stdout",
     "output_type": "stream",
     "text": [
      "Social Media Managers oversee an organizations social media presence. They create and schedule content, engage with followers, and analyze social media metrics to drive brand awareness and engagement.\n"
     ]
    }
   ],
   "execution_count": 17
  },
  {
   "metadata": {
    "ExecuteTime": {
     "end_time": "2025-09-04T07:14:57.279545Z",
     "start_time": "2025-09-04T07:14:57.261348Z"
    }
   },
   "cell_type": "code",
   "source": "print(row['Responsibilities'][0])",
   "id": "6d543b91b47ff2a6",
   "outputs": [
    {
     "name": "stdout",
     "output_type": "stream",
     "text": [
      "Manage and grow social media accounts, create engaging content, and interact with the online community. Develop social media content calendars and strategies. Monitor social media trends and engagement metrics.\n"
     ]
    }
   ],
   "execution_count": 18
  },
  {
   "metadata": {
    "ExecuteTime": {
     "end_time": "2025-09-04T07:14:57.369434Z",
     "start_time": "2025-09-04T07:14:57.358003Z"
    }
   },
   "cell_type": "code",
   "source": "print(row['Qualifications'][0])",
   "id": "89dc10e8da89a326",
   "outputs": [
    {
     "name": "stdout",
     "output_type": "stream",
     "text": [
      "M.Tech\n"
     ]
    }
   ],
   "execution_count": 19
  },
  {
   "metadata": {
    "ExecuteTime": {
     "end_time": "2025-09-04T07:14:57.762157Z",
     "start_time": "2025-09-04T07:14:57.430621Z"
    }
   },
   "cell_type": "code",
   "source": "job_description_dataset['Experience'].unique()",
   "id": "66e61dcaabbd98de",
   "outputs": [
    {
     "data": {
      "text/plain": [
       "array(['5 to 15 Years', '2 to 12 Years', '0 to 12 Years', '4 to 11 Years',\n",
       "       '1 to 12 Years', '4 to 12 Years', '3 to 15 Years', '2 to 8 Years',\n",
       "       '2 to 9 Years', '1 to 10 Years', '3 to 10 Years', '1 to 8 Years',\n",
       "       '1 to 9 Years', '5 to 14 Years', '0 to 11 Years', '3 to 12 Years',\n",
       "       '5 to 9 Years', '0 to 15 Years', '0 to 10 Years', '2 to 14 Years',\n",
       "       '3 to 9 Years', '4 to 15 Years', '2 to 10 Years', '4 to 8 Years',\n",
       "       '3 to 8 Years', '1 to 14 Years', '1 to 13 Years', '0 to 8 Years',\n",
       "       '5 to 10 Years', '2 to 13 Years', '4 to 9 Years', '1 to 15 Years',\n",
       "       '4 to 10 Years', '5 to 12 Years', '0 to 13 Years', '4 to 14 Years',\n",
       "       '1 to 11 Years', '4 to 13 Years', '0 to 9 Years', '5 to 8 Years',\n",
       "       '2 to 15 Years', '5 to 13 Years', '5 to 11 Years', '0 to 14 Years',\n",
       "       '3 to 13 Years', '2 to 11 Years', '3 to 11 Years', '3 to 14 Years'],\n",
       "      dtype=object)"
      ]
     },
     "execution_count": 20,
     "metadata": {},
     "output_type": "execute_result"
    }
   ],
   "execution_count": 20
  },
  {
   "metadata": {
    "ExecuteTime": {
     "end_time": "2025-09-04T07:14:58.155193Z",
     "start_time": "2025-09-04T07:14:57.817257Z"
    }
   },
   "cell_type": "code",
   "source": "job_description_dataset['Qualifications'].unique()",
   "id": "fd60d222ca5dec7b",
   "outputs": [
    {
     "data": {
      "text/plain": [
       "array(['M.Tech', 'BCA', 'PhD', 'MBA', 'MCA', 'M.Com', 'BBA', 'B.Tech',\n",
       "       'B.Com', 'BA'], dtype=object)"
      ]
     },
     "execution_count": 21,
     "metadata": {},
     "output_type": "execute_result"
    }
   ],
   "execution_count": 21
  },
  {
   "metadata": {
    "ExecuteTime": {
     "end_time": "2025-09-04T07:14:58.245412Z",
     "start_time": "2025-09-04T07:14:58.207602Z"
    }
   },
   "cell_type": "code",
   "source": [
    "import re\n",
    "\n",
    "def smart_sentence_tokenize_v2(text: str):\n",
    "    # 1. Normalize spaces\n",
    "    text = re.sub(r\"\\s+\", \" \", text).strip()\n",
    "\n",
    "    # 2. Protect parentheses content so it won't be split inside\n",
    "    protected = []\n",
    "    def _protect(match):\n",
    "        protected.append(match.group(0))\n",
    "        return f\"__P{len(protected)-1}__\"\n",
    "\n",
    "    text = re.sub(r\"\\([^()]*\\)\", _protect, text)\n",
    "\n",
    "    # 3. Split into concept candidates by capitalized starts\n",
    "    parts = re.split(r' (?=[A-Z])', text)\n",
    "\n",
    "    sentences = []\n",
    "    buffer = \"\"\n",
    "\n",
    "    for part in parts:\n",
    "        if buffer:\n",
    "            sentences.append(buffer.strip())\n",
    "            buffer = \"\"\n",
    "\n",
    "        buffer = part.strip()\n",
    "\n",
    "        # If part looks complete, finalize\n",
    "        if re.search(r\"__P\\d+__$\", buffer) or len(buffer.split()) <= 4:\n",
    "            sentences.append(buffer)\n",
    "            buffer = \"\"\n",
    "\n",
    "    if buffer:\n",
    "        sentences.append(buffer.strip())\n",
    "\n",
    "    # 4. Restore protected parentheses\n",
    "    restored = []\n",
    "    for s in sentences:\n",
    "        for i, p in enumerate(protected):\n",
    "            s = s.replace(f\"__P{i}__\", p)\n",
    "        restored.append(s)\n",
    "\n",
    "    # 5. Add periods at the end if missing\n",
    "    restored = [s if s.endswith(\".\") else s + \".\" for s in restored]\n",
    "\n",
    "    return restored\n",
    "\n",
    "# for text in row['skills']:\n",
    "#     for sent in smart_sentence_tokenize_v2(text):\n",
    "#         print(\"•\", sent)\n",
    "#     print('===============')\n"
   ],
   "id": "634720525a171bea",
   "outputs": [],
   "execution_count": 22
  },
  {
   "metadata": {
    "ExecuteTime": {
     "end_time": "2025-09-04T07:14:58.310716Z",
     "start_time": "2025-09-04T07:14:58.294703Z"
    }
   },
   "cell_type": "code",
   "source": [
    "experience = {\n",
    "    '0 to 8 Years': \"Entry-Level (0-2 years of experience)\",\n",
    "    '0 to 9 Years': \"Entry-Level (0-2 years of experience)\",\n",
    "    '0 to 10 Years': \"Entry-Level (0-2 years of experience)\",\n",
    "    '0 to 11 Years': \"Entry-Level (0-2 years of experience)\",\n",
    "    '0 to 12 Years': \"Entry-Level (0-2 years of experience)\",\n",
    "    '0 to 13 Years': \"Entry-Level (0-2 years of experience)\",\n",
    "    '0 to 14 Years': \"Entry-Level (0-2 years of experience)\",\n",
    "    '0 to 15 Years': \"Entry-Level (0-2 years of experience)\",\n",
    "    '1 to 8 Years': \"Junior (2-5 years of experience)\",\n",
    "    '1 to 9 Years': \"Junior (2-5 years of experience)\",\n",
    "    '1 to 10 Years': \"Mid-Level (5-8 years of experience)\",\n",
    "    '1 to 11 Years': \"Mid-Level (5-8 years of experience)\",\n",
    "    '1 to 12 Years': \"Senior (8-12 years of experience)\",\n",
    "    '1 to 13 Years': \"Senior (8-12 years of experience)\",\n",
    "    '1 to 14 Years': \"Lead/Principal (12+ years of experience)\",\n",
    "    '1 to 15 Years': \"Lead/Principal (12+ years of experience)\",\n",
    "    '2 to 8 Years': \"Mid-Level (5-8 years of experience)\",\n",
    "    '2 to 9 Years': \"Mid-Level (5-8 years of experience)\",\n",
    "    '2 to 10 Years': \"Mid-Level (5-8 years of experience)\",\n",
    "    '2 to 11 Years': \"Mid-Level (5-8 years of experience)\",\n",
    "    '2 to 12 Years': \"Senior (8-12 years of experience)\",\n",
    "    '2 to 13 Years': \"Senior (8-12 years of experience)\",\n",
    "    '2 to 14 Years': \"Lead/Principal (12+ years of experience)\",\n",
    "    '2 to 15 Years': \"Lead/Principal (12+ years of experience)\",\n",
    "    '3 to 8 Years': \"Mid-Level (5-8 years of experience)\",\n",
    "    '3 to 9 Years': \"Mid-Level (5-8 years of experience)\",\n",
    "    '3 to 10 Years': \"Mid-Level (5-8 years of experience)\",\n",
    "    '3 to 11 Years': \"Mid-Level (5-8 years of experience)\",\n",
    "    '3 to 12 Years': \"Senior (8-12 years of experience)\",\n",
    "    '3 to 13 Years': \"Senior (8-12 years of experience)\",\n",
    "    '3 to 14 Years': \"Lead/Principal (12+ years of experience)\",\n",
    "    '3 to 15 Years': \"Lead/Principal (12+ years of experience)\",\n",
    "    '4 to 8 Years': \"Mid-Level (5-8 years of experience)\",\n",
    "    '4 to 9 Years': \"Mid-Level (5-8 years of experience)\",\n",
    "    '4 to 10 Years': \"Mid-Level (5-8 years of experience)\",\n",
    "    '4 to 11 Years': \"Mid-Level (5-8 years of experience)\",\n",
    "    '4 to 12 Years': \"Senior (8-12 years of experience)\",\n",
    "    '4 to 13 Years': \"Senior (8-12 years of experience)\",\n",
    "    '4 to 14 Years': \"Lead/Principal (12+ years of experience)\",\n",
    "    '4 to 15 Years': \"Lead/Principal (12+ years of experience)\",\n",
    "    '5 to 8 Years': \"Mid-Level (5-8 years of experience)\",\n",
    "    '5 to 9 Years': \"Mid-Level (5-8 years of experience)\",\n",
    "    '5 to 10 Years': \"Mid-Level (5-8 years of experience)\",\n",
    "    '5 to 11 Years': \"Mid-Level (5-8 years of experience)\",\n",
    "    '5 to 12 Years': \"Senior (8-12 years of experience)\",\n",
    "    '5 to 13 Years': \"Senior (8-12 years of experience)\",\n",
    "    '5 to 14 Years': \"Lead/Principal (12+ years of experience)\",\n",
    "    '5 to 15 Years': \"Lead/Principal (12+ years of experience)\"\n",
    "}\n",
    "\n",
    "degree = {\n",
    "    'M.Tech': 'Master of Technology',\n",
    "    'BCA': 'Bachelor of Computer Applications',\n",
    "    'PhD': 'Doctor of Philosophy',\n",
    "    'MBA': 'Master of Business Administration',\n",
    "    'MCA': 'Master of Computer Applications',\n",
    "    'M.Com': 'Master of Commerce',\n",
    "    'BBA': 'Bachelor of Business Administration',\n",
    "    'B.Tech': 'Bachelor of Technology',\n",
    "    'B.Com': 'Bachelor of Commerce',\n",
    "    'BA': 'Bachelor of Arts'\n",
    "    }"
   ],
   "id": "96476e3c42f0ad3f",
   "outputs": [],
   "execution_count": 23
  },
  {
   "metadata": {
    "ExecuteTime": {
     "end_time": "2025-09-04T07:14:58.373761Z",
     "start_time": "2025-09-04T07:14:58.365117Z"
    }
   },
   "cell_type": "code",
   "source": "print('\\n'.join(f\"• {sent}\" for sent in smart_sentence_tokenize_v2(row['skills'][2])))",
   "id": "9f5656441f815498",
   "outputs": [
    {
     "name": "stdout",
     "output_type": "stream",
     "text": [
      "• Quality control processes and methodologies.\n",
      "• Statistical process control (SPC).\n",
      "• Root cause analysis and corrective action.\n",
      "• Quality management systems (e.g., ISO 9001).\n",
      "• Compliance and regulatory knowledge.\n"
     ]
    }
   ],
   "execution_count": 24
  },
  {
   "metadata": {
    "ExecuteTime": {
     "end_time": "2025-09-04T07:15:05.299356Z",
     "start_time": "2025-09-04T07:14:58.414527Z"
    }
   },
   "cell_type": "code",
   "source": [
    "from nltk.tokenize import sent_tokenize\n",
    "\n",
    "def construct_document_from_df(row):\n",
    "    row['Benefits'] = (row['Benefits'].replace(', ', '.').\n",
    "                       replace('{\\'', '').\n",
    "                       replace('\\'}', ''))\n",
    "    newline = '\\n'\n",
    "    document = f\"\"\"\n",
    "Company: {row['Company']}\n",
    "\n",
    "Job Title: {row['Job Title']}\n",
    "Location: {row['location']}, {row['Country']}\n",
    "Work Type: {row['Work Type']}\n",
    "\n",
    "About The Job:\n",
    "{row['Job Description']}\n",
    "\n",
    "Key Responsibilities:\n",
    "{newline.join(f\"• {sentence}\" for sentence in sent_tokenize(row['Responsibilities']))}\n",
    "\n",
    "Requirements:\n",
    "• Education: {degree[row['Qualifications']]} Degree ({row['Qualifications']})\n",
    "• Experience: {experience[row['Experience']]}\n",
    "{newline.join(f\"• {sent}\" for sent in smart_sentence_tokenize_v2(row['skills']))}\n",
    "\n",
    "Benefits:\n",
    "• {row['Salary Range']} Salary\n",
    "{newline.join(f\"• {sent.strip()}\" for sent in row['Benefits'].split('.'))}\n",
    "\n",
    "    \"\"\"\n",
    "\n",
    "    return document"
   ],
   "id": "e995818452665e37",
   "outputs": [],
   "execution_count": 25
  },
  {
   "metadata": {
    "ExecuteTime": {
     "end_time": "2025-09-04T07:15:05.324311Z",
     "start_time": "2025-09-04T07:15:05.316355Z"
    }
   },
   "cell_type": "code",
   "source": [
    "def construct_document_for_embedding(row):\n",
    "    row['Benefits'] = (str(row['Benefits']).replace(', ', '.').\n",
    "                       replace('{\\'', '').\n",
    "                       replace('\\'}', ''))\n",
    "\n",
    "    # Use a separator for clarity instead of many newlines (important for embedding)\n",
    "    separator = \". \" # Using a period and space can help delimit sentences\n",
    "\n",
    "    # --- Document Construction ---\n",
    "\n",
    "    # Core Job Identity\n",
    "    title_section = f\"Job Title: {row['Job Title']}{separator}\"\n",
    "    company_section = f\"Company: {row['Company']}{separator}\"\n",
    "    meta_section = f\"Location: {row['location']}, {row['Country']}{separator}Work Type: {row['Work Type']}{separator}\"\n",
    "\n",
    "    # Job Essence\n",
    "    description_section = f\"Job Description: {row['Job Description']}{separator}\"\n",
    "\n",
    "    # Responsibilities - joined as a single paragraph of sentences\n",
    "    responsibilities_text = ' '.join(sent_tokenize(str(row['Responsibilities'])))\n",
    "    responsibilities_section = f\"Key Responsibilities: {responsibilities_text}{separator}\"\n",
    "\n",
    "    # Requirements - The most critical section for matching\n",
    "    education_req = f\"Required Education: {degree.get(row['Qualifications'], row['Qualifications'])} Degree.\"\n",
    "    experience_req = f\"Required Experience: {experience.get(row['Experience'], row['Experience'])}.\"\n",
    "    skills_req = ' '.join(smart_sentence_tokenize_v2(str(row['skills'])))\n",
    "    requirements_section = f\"Requirements: {education_req} {experience_req} {skills_req}{separator}\"\n",
    "\n",
    "    # Benefits\n",
    "    benefits_list = ' '.join(f\"{sent.strip()}\" for sent in str(row['Benefits']).split('.'))\n",
    "    benefits_section = f\"Salary Range: {row['Salary Range']}{separator}Benefits offered: {benefits_list}\"\n",
    "\n",
    "    # Combine all sections into the final document\n",
    "    document = (title_section + company_section + meta_section +\n",
    "                description_section + responsibilities_section +\n",
    "                requirements_section + benefits_section)\n",
    "\n",
    "    return document"
   ],
   "id": "57def623ce12b44b",
   "outputs": [],
   "execution_count": 26
  },
  {
   "metadata": {
    "ExecuteTime": {
     "end_time": "2025-09-04T07:15:05.431714Z",
     "start_time": "2025-09-04T07:15:05.338737Z"
    }
   },
   "cell_type": "code",
   "source": "values = row.apply(construct_document_from_df, axis=1)",
   "id": "b25e538f3dcea4e3",
   "outputs": [],
   "execution_count": 27
  },
  {
   "metadata": {
    "ExecuteTime": {
     "end_time": "2025-09-04T07:15:05.456170Z",
     "start_time": "2025-09-04T07:15:05.447428Z"
    }
   },
   "cell_type": "code",
   "source": "construct_document_for_embedding(row.iloc[np.random.randint(0, len(row))])",
   "id": "3bbf49ad131e9caf",
   "outputs": [
    {
     "name": "stderr",
     "output_type": "stream",
     "text": [
      "C:\\Users\\mahmo\\AppData\\Local\\Temp\\ipykernel_4568\\3555903541.py:2: SettingWithCopyWarning: \n",
      "A value is trying to be set on a copy of a slice from a DataFrame\n",
      "\n",
      "See the caveats in the documentation: https://pandas.pydata.org/pandas-docs/stable/user_guide/indexing.html#returning-a-view-versus-a-copy\n",
      "  row['Benefits'] = (str(row['Benefits']).replace(', ', '.').\n"
     ]
    },
    {
     "data": {
      "text/plain": [
       "'Job Title: Digital Marketing Specialist. Company: Icahn Enterprises. Location: Douglas, Isle of Man. Work Type: Intern. Job Description: Social Media Managers oversee an organizations social media presence. They create and schedule content, engage with followers, and analyze social media metrics to drive brand awareness and engagement.. Key Responsibilities: Manage and grow social media accounts, create engaging content, and interact with the online community. Develop social media content calendars and strategies. Monitor social media trends and engagement metrics.. Requirements: Required Education: Master of Technology Degree. Required Experience: Lead/Principal (12+ years of experience). Social media platforms (e.g., Facebook, Twitter, Instagram). Content creation and scheduling. Social media analytics and insights. Community engagement. Paid social advertising.. Salary Range: $59K-$99K. Benefits offered: Flexible Spending Accounts (FSAs) Relocation Assistance Legal Assistance Employee Recognition Programs Financial Counseling'"
      ]
     },
     "execution_count": 28,
     "metadata": {},
     "output_type": "execute_result"
    }
   ],
   "execution_count": 28
  },
  {
   "metadata": {
    "ExecuteTime": {
     "end_time": "2025-09-04T07:15:05.481587Z",
     "start_time": "2025-09-04T07:15:05.474724Z"
    }
   },
   "cell_type": "code",
   "source": "print(values[np.random.randint(0, len(values))])",
   "id": "afe24bfdd4cc81b0",
   "outputs": [
    {
     "name": "stdout",
     "output_type": "stream",
     "text": [
      "\n",
      "Company: Mondelez International\n",
      "\n",
      "Job Title: Social Media Coordinator\n",
      "Location: Papeete, French Polynesia\n",
      "Work Type: Full-Time\n",
      "\n",
      "About The Job:\n",
      "Create engaging and relevant content, such as articles, videos, or social media posts, to promote brands or products.\n",
      "\n",
      "Key Responsibilities:\n",
      "• Create compelling and shareable content for social media platforms, including text, images, and videos.\n",
      "• Collaborate with designers and photographers for visuals.\n",
      "• Engage with the audience and respond to comments.\n",
      "\n",
      "Requirements:\n",
      "• Education: Bachelor of Arts Degree (BA)\n",
      "• Experience: Entry-Level (0-2 years of experience)\n",
      "• Content creation (e.g., writing, editing, graphic design, video production).\n",
      "• Content marketing.\n",
      "• Social media management.\n",
      "• SEO optimization.\n",
      "• Creative storytelling.\n",
      "• Audience engagement.\n",
      "• Analytics and reporting.\n",
      "• Adaptability.\n",
      "• Communication skills.\n",
      "• Creativity.\n",
      "\n",
      "Benefits:\n",
      "• $55K-$117K Salary\n",
      "• Casual Dress Code\n",
      "• Social and Recreational Activities\n",
      "• Employee Referral Programs\n",
      "• Health and Wellness Facilities\n",
      "• Life and Disability Insurance\n",
      "\n",
      "    \n"
     ]
    }
   ],
   "execution_count": 29
  },
  {
   "metadata": {
    "ExecuteTime": {
     "end_time": "2025-09-04T07:15:06.701509Z",
     "start_time": "2025-09-04T07:15:05.501118Z"
    }
   },
   "cell_type": "code",
   "source": "job_description_dataset.groupby('Job Title')['Role'].value_counts()",
   "id": "83a8713abc552604",
   "outputs": [
    {
     "data": {
      "text/plain": [
       "Job Title          Role                         \n",
       "Account Director   Business Development Director    3466\n",
       "                   Account Strategist               3460\n",
       "Account Executive  Sales Account Executive          3530\n",
       "                   Advertising Account Executive    3492\n",
       "                   Key Account Executive            3489\n",
       "                                                    ... \n",
       "Web Developer      Frontend Web Developer           3563\n",
       "                   Backend Web Developer            3452\n",
       "                   Full-Stack Developer             3346\n",
       "Wedding Planner    Wedding Consultant               3492\n",
       "                   Wedding Designer                 3353\n",
       "Name: Role, Length: 376, dtype: int64"
      ]
     },
     "execution_count": 30,
     "metadata": {},
     "output_type": "execute_result"
    }
   ],
   "execution_count": 30
  },
  {
   "metadata": {
    "ExecuteTime": {
     "end_time": "2025-09-04T07:21:16.491553Z",
     "start_time": "2025-09-04T07:15:06.758975Z"
    }
   },
   "cell_type": "code",
   "source": "job_description_dataset['job_document'] = job_description_dataset.apply(construct_document_for_embedding, axis=1)",
   "id": "dc96e9f4f7bfd1b",
   "outputs": [],
   "execution_count": 31
  },
  {
   "metadata": {
    "ExecuteTime": {
     "end_time": "2025-09-04T07:23:17.409763Z",
     "start_time": "2025-09-04T07:21:16.622497Z"
    }
   },
   "cell_type": "code",
   "source": "job_description_dataset.to_csv('../Dataset/Processed/job_description.csv', index=False)",
   "id": "95ebfd751d44eda7",
   "outputs": [],
   "execution_count": 32
  },
  {
   "metadata": {
    "ExecuteTime": {
     "end_time": "2025-09-04T07:23:17.460076Z",
     "start_time": "2025-09-04T07:23:17.455070Z"
    }
   },
   "cell_type": "code",
   "source": "",
   "id": "261a1900ab568cdd",
   "outputs": [],
   "execution_count": null
  }
 ],
 "metadata": {
  "kernelspec": {
   "display_name": "Python 3",
   "language": "python",
   "name": "python3"
  },
  "language_info": {
   "codemirror_mode": {
    "name": "ipython",
    "version": 2
   },
   "file_extension": ".py",
   "mimetype": "text/x-python",
   "name": "python",
   "nbconvert_exporter": "python",
   "pygments_lexer": "ipython2",
   "version": "2.7.6"
  }
 },
 "nbformat": 4,
 "nbformat_minor": 5
}
