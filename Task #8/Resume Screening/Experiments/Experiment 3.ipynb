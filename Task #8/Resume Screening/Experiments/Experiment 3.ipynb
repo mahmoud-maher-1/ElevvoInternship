{
 "cells": [
  {
   "cell_type": "code",
   "id": "initial_id",
   "metadata": {
    "collapsed": true,
    "ExecuteTime": {
     "end_time": "2025-09-04T07:36:32.397885Z",
     "start_time": "2025-09-04T07:35:55.104761Z"
    }
   },
   "source": [
    "from sentence_transformers import SentenceTransformer\n",
    "from sentence_transformers.util import cos_sim\n",
    "import numpy as np\n",
    "import pandas as pd\n",
    "\n",
    "embedding_model = SentenceTransformer('all-MiniLM-L6-v2')"
   ],
   "outputs": [
    {
     "name": "stdout",
     "output_type": "stream",
     "text": [
      "WARNING:tensorflow:From C:\\Users\\mahmo\\AppData\\Local\\Programs\\Python\\Python311\\Lib\\site-packages\\tf_keras\\src\\losses.py:2976: The name tf.losses.sparse_softmax_cross_entropy is deprecated. Please use tf.compat.v1.losses.sparse_softmax_cross_entropy instead.\n",
      "\n"
     ]
    }
   ],
   "execution_count": 1
  },
  {
   "metadata": {
    "ExecuteTime": {
     "end_time": "2025-09-04T07:37:11.241933Z",
     "start_time": "2025-09-04T07:36:32.404903Z"
    }
   },
   "cell_type": "code",
   "source": "job_df = pd.read_csv('../Dataset/Processed/job_description.csv')",
   "id": "8ed4c24a34aae01c",
   "outputs": [],
   "execution_count": 2
  },
  {
   "metadata": {
    "jupyter": {
     "is_executing": true
    },
    "ExecuteTime": {
     "start_time": "2025-09-04T07:50:20.597024Z"
    }
   },
   "cell_type": "code",
   "source": [
    "for _, i in job_df.iterrows():\n",
    "    embeddings = embedding_model.encode(i['job_document'])\n",
    "    np.save(f'{i[\"Job Id\"]}.npy', embeddings)"
   ],
   "id": "6fb923882034f2c3",
   "outputs": [],
   "execution_count": null
  }
 ],
 "metadata": {
  "kernelspec": {
   "display_name": "Python 3",
   "language": "python",
   "name": "python3"
  },
  "language_info": {
   "codemirror_mode": {
    "name": "ipython",
    "version": 2
   },
   "file_extension": ".py",
   "mimetype": "text/x-python",
   "name": "python",
   "nbconvert_exporter": "python",
   "pygments_lexer": "ipython2",
   "version": "2.7.6"
  }
 },
 "nbformat": 4,
 "nbformat_minor": 5
}
