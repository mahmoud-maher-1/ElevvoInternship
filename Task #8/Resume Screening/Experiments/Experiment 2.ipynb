{
 "cells": [
  {
   "metadata": {
    "ExecuteTime": {
     "end_time": "2025-09-05T02:12:38.726230Z",
     "start_time": "2025-09-05T02:12:37.619608Z"
    }
   },
   "cell_type": "code",
   "source": [
    "import pandas as pd\n",
    "import re\n",
    "import numpy as np"
   ],
   "id": "3471a71e06f9c3ae",
   "outputs": [],
   "execution_count": 1
  },
  {
   "metadata": {
    "ExecuteTime": {
     "end_time": "2025-09-05T02:13:19.553066Z",
     "start_time": "2025-09-05T02:12:38.731251Z"
    }
   },
   "cell_type": "code",
   "source": [
    "rs_df = pd.read_csv('../Dataset/Raw/Resume Dataset/Resume/Resume.csv').drop('Resume_html', axis=1)\n",
    "jd_df = pd.read_csv('../Dataset/Processed/job_description.csv')"
   ],
   "id": "3e9ca059413cfdf0",
   "outputs": [],
   "execution_count": 2
  },
  {
   "metadata": {
    "ExecuteTime": {
     "end_time": "2025-09-05T02:13:20.943698Z",
     "start_time": "2025-09-05T02:13:20.312980Z"
    }
   },
   "cell_type": "code",
   "source": [
    "# Combine 'Job Title' and 'Role' columns (if both exist)\n",
    "job_titles = set()\n",
    "\n",
    "if 'Job Title' in jd_df.columns:\n",
    "    job_titles.update(jd_df['Job Title'].unique())\n",
    "\n",
    "if 'Role' in jd_df.columns:\n",
    "    job_titles.update(jd_df['Role'].unique())\n",
    "\n",
    "job_titles = list(job_titles)\n",
    "len(job_titles), job_titles[:20]  # show first 20 titles"
   ],
   "id": "cd7d9733a62edb5b",
   "outputs": [
    {
     "data": {
      "text/plain": [
       "(455,\n",
       " ['Corporate Paralegal',\n",
       "  'Data Entry Specialist',\n",
       "  'Child Custody Lawyer',\n",
       "  'Tax Consultant',\n",
       "  'Clinical Psychologist',\n",
       "  'City Planner',\n",
       "  'Sales Advisor',\n",
       "  'Technical SEO Specialist',\n",
       "  'Healthcare Business Analyst',\n",
       "  'Art Director',\n",
       "  'Software Architect',\n",
       "  'Procurement Analyst',\n",
       "  'Content SEO Strategist',\n",
       "  'Child Welfare Worker',\n",
       "  'Customer Support Manager',\n",
       "  'Quality Assurance Analyst',\n",
       "  'Legal Counsel',\n",
       "  'Periodontal Therapist',\n",
       "  'Financial Planning Manager',\n",
       "  'Logistics Manager'])"
      ]
     },
     "execution_count": 3,
     "metadata": {},
     "output_type": "execute_result"
    }
   ],
   "execution_count": 3
  },
  {
   "metadata": {
    "ExecuteTime": {
     "end_time": "2025-09-05T02:13:21.029380Z",
     "start_time": "2025-09-05T02:13:20.998676Z"
    }
   },
   "cell_type": "code",
   "source": [
    "import fuzzywuzzy.process as process\n",
    "\n",
    "def extract_job_title(resume_text, job_titles, threshold=80):\n",
    "    \"\"\"\n",
    "    Try to extract a job title from resume_text\n",
    "    by fuzzy matching against the known job_titles.\n",
    "    \"\"\"\n",
    "    # Preprocess resume text (optional: lowercasing)\n",
    "    text = resume_text.lower()\n",
    "\n",
    "    # Use fuzzy matching to find best match\n",
    "    match, score = process.extractOne(text, job_titles)\n",
    "\n",
    "    if score >= threshold:\n",
    "        return match\n",
    "    else:\n",
    "        return None\n"
   ],
   "id": "ca54b05d65230b",
   "outputs": [
    {
     "name": "stderr",
     "output_type": "stream",
     "text": [
      "C:\\Users\\mahmo\\AppData\\Local\\Programs\\Python\\Python311\\Lib\\site-packages\\fuzzywuzzy\\fuzz.py:11: UserWarning: Using slow pure-python SequenceMatcher. Install python-Levenshtein to remove this warning\n",
      "  warnings.warn('Using slow pure-python SequenceMatcher. Install python-Levenshtein to remove this warning')\n"
     ]
    }
   ],
   "execution_count": 4
  },
  {
   "metadata": {
    "jupyter": {
     "is_executing": true
    },
    "ExecuteTime": {
     "start_time": "2025-09-05T02:13:21.069197Z"
    }
   },
   "cell_type": "code",
   "source": [
    "# Create a new column with extracted role\n",
    "rs_df['Extracted_Role'] = rs_df['Resume_str'].apply(\n",
    "    lambda x: extract_job_title(str(x), job_titles)\n",
    ")\n",
    "\n",
    "rs_df[['Resume_str', 'Extracted_Role']].head(10)"
   ],
   "id": "5f50b02f192e518a",
   "outputs": [
    {
     "name": "stderr",
     "output_type": "stream",
     "text": [
      "WARNING:root:Applied processor reduces input query to empty string, all comparisons will have score 0. [Query: '                     ']\n"
     ]
    }
   ],
   "execution_count": null
  }
 ],
 "metadata": {
  "kernelspec": {
   "display_name": "Python 3",
   "language": "python",
   "name": "python3"
  },
  "language_info": {
   "codemirror_mode": {
    "name": "ipython",
    "version": 2
   },
   "file_extension": ".py",
   "mimetype": "text/x-python",
   "name": "python",
   "nbconvert_exporter": "python",
   "pygments_lexer": "ipython2",
   "version": "2.7.6"
  }
 },
 "nbformat": 4,
 "nbformat_minor": 5
}
